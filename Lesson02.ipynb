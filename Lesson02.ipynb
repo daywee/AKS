{
 "cells": [
  {
   "cell_type": "code",
   "execution_count": 1,
   "metadata": {},
   "outputs": [],
   "source": [
    "from bitarray import bitarray\n",
    "import numpy as np\n",
    "import pandas as pd\n",
    "import math"
   ]
  },
  {
   "cell_type": "markdown",
   "metadata": {},
   "source": [
    "# Utilities"
   ]
  },
  {
   "cell_type": "code",
   "execution_count": 2,
   "metadata": {},
   "outputs": [],
   "source": [
    "def read_data(filename):\n",
    "    prefix = './data/lesson02/'\n",
    "    extension = '.txt'\n",
    "    with open(prefix + filename + extension) as file:\n",
    "        lines = file.readlines()\n",
    "    \n",
    "    numbers = [int(num.replace('\\n', '')) for num in lines]\n",
    "    \n",
    "    return numbers"
   ]
  },
  {
   "cell_type": "code",
   "execution_count": 3,
   "metadata": {},
   "outputs": [],
   "source": [
    "class BitFile(object):\n",
    "    def __init__(self, header_length=4):\n",
    "        '''\n",
    "        Arguments:\n",
    "        header_length -- length of header in bits\n",
    "        '''\n",
    "        self.header_length_bits = header_length * 8\n",
    "\n",
    "    def save(self, path, bit_array):\n",
    "        content_bits = bit_array\n",
    "        content_length = len(content_bits)\n",
    "        \n",
    "        header_bits = bitarray(bin(content_length)[2:].zfill(self.header_length_bits))\n",
    "        \n",
    "        bits = header_bits + content_bits\n",
    "        with open(path, 'bw') as file:\n",
    "            bits.tofile(file)\n",
    "            \n",
    "    def load(self, path):\n",
    "        with open(path, 'br') as file:\n",
    "            bits = bitarray()\n",
    "            bits.fromfile(file)\n",
    "            \n",
    "            header_bits = bits[:self.header_length_bits]\n",
    "            content_length = int(header_bits.to01(), 2)\n",
    "            content_bits = bits[self.header_length_bits:self.header_length_bits+content_length]\n",
    "            \n",
    "            return content_bits"
   ]
  },
  {
   "cell_type": "code",
   "execution_count": 4,
   "metadata": {},
   "outputs": [],
   "source": [
    "def test_array_equality(expected, actual):\n",
    "    if len(expected) != len(actual):\n",
    "        raise Exception('Lengths does not match')\n",
    "        \n",
    "    for i in range(len(expected)):\n",
    "        if expected[i] != actual[i]:\n",
    "            raise Exception(f\"Index {i} (expected value '{expected[i]}' got '{actual[i]}')\")"
   ]
  },
  {
   "cell_type": "markdown",
   "metadata": {},
   "source": [
    "# Read data"
   ]
  },
  {
   "cell_type": "code",
   "execution_count": 5,
   "metadata": {},
   "outputs": [],
   "source": [
    "uniform_8 = read_data('uniform_8')\n",
    "gausian_8 = read_data('gausian_8')\n",
    "exponential_8 = read_data('exponential_8')\n",
    "\n",
    "uniform_16 = read_data('uniform_16')\n",
    "gausian_16 = read_data('gausian_16')\n",
    "exponential_16 = read_data('exponential_16')"
   ]
  },
  {
   "cell_type": "markdown",
   "metadata": {},
   "source": [
    "# Fibonacci coding"
   ]
  },
  {
   "cell_type": "code",
   "execution_count": 6,
   "metadata": {},
   "outputs": [],
   "source": [
    "class FibonacciEncoder(object):\n",
    "    def encode(self, numbers):\n",
    "        self.fib = self.get_fibonacci_sequence(max(numbers))\n",
    "\n",
    "        bit_array = bitarray()\n",
    "        for number in numbers:\n",
    "            bit_array += self.indices_to_binary(self.find_fibonacci_sum_indexes(number))\n",
    "\n",
    "        return bit_array\n",
    "    \n",
    "    def get_fibonacci_sequence(self, max_number):\n",
    "        ''' Returns fibonacci sequence starting with single 1 (1, 2, 3, 5, ...)'''\n",
    "        i = 2\n",
    "        sequence = [1, 1]\n",
    "        while sequence[-1] < max_number:\n",
    "            sequence.append(sequence[i-1] + sequence[i-2])\n",
    "            i += 1\n",
    "\n",
    "        return sequence[1:]\n",
    "    \n",
    "    def index_of_largest_lesser_or_equal(self, number):\n",
    "        return [(i, n) for i, n in enumerate(self.fib) if n <= number][-1]\n",
    "    \n",
    "    def find_fibonacci_sum_indexes(self, number):\n",
    "        indexes = []\n",
    "        while number > 0:\n",
    "            i, n = self.index_of_largest_lesser_or_equal(number)\n",
    "            number = number - n\n",
    "            indexes.append(i)\n",
    "\n",
    "        return indexes[::-1]\n",
    "    \n",
    "    def indices_to_binary(self, fibonacci_sum_indices):\n",
    "        length = max(fibonacci_sum_indices) + 2\n",
    "        bit_array = bitarray(length)\n",
    "        bit_array.setall(0)\n",
    "\n",
    "        for i in fibonacci_sum_indices:\n",
    "            bit_array[i] = 1\n",
    "        bit_array[-1] = 1\n",
    "\n",
    "        return bit_array"
   ]
  },
  {
   "cell_type": "code",
   "execution_count": 7,
   "metadata": {},
   "outputs": [],
   "source": [
    "class FibonacciDecoder(object):\n",
    "    def __init__(self, max_number=100000):\n",
    "        self.fib = self.get_fibonacci_sequence(max_number)\n",
    "\n",
    "    def decode(self, bit_array):\n",
    "        numbers = []\n",
    "\n",
    "        start = 0\n",
    "        i = 1\n",
    "        while i < len(bit_array):\n",
    "            if bit_array[i-1] and bit_array[i]:\n",
    "                numbers.append(self.sum_fibonacci_indices(bit_array[start:i]))\n",
    "                i += 1\n",
    "                start = i\n",
    "\n",
    "            i += 1\n",
    "\n",
    "        return numbers\n",
    "\n",
    "    def sum_fibonacci_indices(self, bit_array):\n",
    "        sum_ = 0\n",
    "        for i, bit in enumerate(bit_array):\n",
    "            if bit:\n",
    "                sum_ += self.fib[i]\n",
    "        return sum_\n",
    "\n",
    "    def get_fibonacci_sequence(self, max_number):\n",
    "        ''' Returns fibonacci sequence starting with single 1 (1, 2, 3, 5, ...)'''\n",
    "        i = 2\n",
    "        sequence = [1, 1]\n",
    "        while sequence[-1] < max_number:\n",
    "            sequence.append(sequence[i-1] + sequence[i-2])\n",
    "            i += 1\n",
    "\n",
    "        return sequence[1:]"
   ]
  },
  {
   "cell_type": "code",
   "execution_count": 8,
   "metadata": {},
   "outputs": [],
   "source": [
    "data = uniform_8\n",
    "encoder = FibonacciEncoder()\n",
    "encoded = encoder.encode(data)\n",
    "\n",
    "bitfile = BitFile()\n",
    "bitfile.save('output/fib.bin', encoded)\n",
    "\n",
    "loaded = bitfile.load('output/fib.bin')\n",
    "\n",
    "decoder = FibonacciDecoder()\n",
    "decoded = decoder.decode(loaded)\n",
    "\n",
    "test_array_equality(uniform_8, decoded)"
   ]
  },
  {
   "cell_type": "markdown",
   "metadata": {},
   "source": [
    "# Raw binary coding"
   ]
  },
  {
   "cell_type": "code",
   "execution_count": 9,
   "metadata": {},
   "outputs": [],
   "source": [
    "class RawBinaryEncoderDecoder(object):\n",
    "    def __init__(self, int_size=32):\n",
    "        self.int_size = int_size\n",
    "    \n",
    "    def encode(self, numbers):\n",
    "        bit_array = bitarray()\n",
    "        \n",
    "        for number in numbers:\n",
    "            binary_number = bin(number)[2:].zfill(self.int_size)\n",
    "            bit_array += bitarray(binary_number)\n",
    "            \n",
    "        return bit_array\n",
    "    \n",
    "    def decode(self, bit_array):\n",
    "        if len(bit_array) % self.int_size != 0:\n",
    "            raise Exception('Wrong input')\n",
    "            \n",
    "        numbers = []\n",
    "        \n",
    "        for i in range(len(bit_array)//self.int_size):\n",
    "            binary_number = bit_array[i*self.int_size:(i+1)*self.int_size].to01()\n",
    "            numbers.append(int(binary_number, 2))\n",
    "            \n",
    "        return numbers"
   ]
  },
  {
   "cell_type": "code",
   "execution_count": 10,
   "metadata": {},
   "outputs": [],
   "source": [
    "data = uniform_8\n",
    "encoder = RawBinaryEncoderDecoder(int_size=9) # one extra bit because data contains number 256\n",
    "encoded = encoder.encode(data)\n",
    "\n",
    "bitfile = BitFile()\n",
    "bitfile.save('output/raw.bin', encoded)\n",
    "\n",
    "loaded = bitfile.load('output/raw.bin')\n",
    "\n",
    "decoder = RawBinaryEncoderDecoder(int_size=9)\n",
    "decoded = decoder.decode(loaded)\n",
    "\n",
    "test_array_equality(uniform_8, decoded)"
   ]
  },
  {
   "cell_type": "markdown",
   "metadata": {},
   "source": [
    "# Elias code (gamma)"
   ]
  },
  {
   "cell_type": "code",
   "execution_count": 11,
   "metadata": {},
   "outputs": [],
   "source": [
    "class EliasEncoder(object):\n",
    "    def encode(self, numbers):\n",
    "        bit_array = bitarray()\n",
    "        \n",
    "        for number in numbers:\n",
    "            binary_number = self.get_leading_zeros(number) + self.get_binary(number)\n",
    "            bit_array += binary_number\n",
    "            \n",
    "        return bit_array\n",
    "    \n",
    "    def get_leading_zeros(self, number):\n",
    "        number_of_zeros = int(math.log2(number))\n",
    "        bit_array = bitarray(number_of_zeros)\n",
    "        bit_array.setall(0)\n",
    "\n",
    "        return bit_array\n",
    "\n",
    "    def get_binary(self, number):\n",
    "        return bitarray(bin(number)[2:])"
   ]
  },
  {
   "cell_type": "code",
   "execution_count": 12,
   "metadata": {},
   "outputs": [],
   "source": [
    "class EliasDecoder(object):\n",
    "    def decode(self, bit_array):\n",
    "        numbers = []\n",
    "        i = 0\n",
    "        while i < len(bit_array):\n",
    "            M = 0 # number of zeros\n",
    "            while not bit_array[i]:\n",
    "                M += 1\n",
    "                i += 1\n",
    "                \n",
    "            L = bit_array[i:i+M+1]\n",
    "            number = int(L.to01(), 2)\n",
    "            numbers.append(number)\n",
    "            \n",
    "            i += M + 1\n",
    "            \n",
    "        return numbers"
   ]
  },
  {
   "cell_type": "code",
   "execution_count": 13,
   "metadata": {},
   "outputs": [],
   "source": [
    "data = uniform_8\n",
    "encoder = EliasEncoder()\n",
    "encoded = encoder.encode(data)\n",
    "\n",
    "bitfile = BitFile()\n",
    "bitfile.save('output/elias.bin', encoded)\n",
    "\n",
    "loaded = bitfile.load('output/elias.bin')\n",
    "\n",
    "decoder = EliasDecoder()\n",
    "decoded = decoder.decode(loaded)\n",
    "\n",
    "test_array_equality(uniform_8, decoded)"
   ]
  },
  {
   "cell_type": "markdown",
   "metadata": {},
   "source": [
    "# Results"
   ]
  },
  {
   "cell_type": "code",
   "execution_count": 14,
   "metadata": {},
   "outputs": [],
   "source": [
    "encoders_decoders = [\n",
    "    ('Elias (gamma)', EliasEncoder(), EliasDecoder()),\n",
    "    ('Fibonacci', FibonacciEncoder(), FibonacciDecoder()),\n",
    "    ('Raw binary', RawBinaryEncoderDecoder(17), RawBinaryEncoderDecoder(17)),\n",
    "]\n",
    "\n",
    "datasets = [\n",
    "    ('uniform_8', uniform_8),\n",
    "    ('gausian_8', gausian_8),\n",
    "    ('exponential_8', exponential_8),\n",
    "    ('uniform_16', uniform_16),\n",
    "    ('gausian_16', gausian_16),\n",
    "    ('exponential_16', exponential_16),\n",
    "]"
   ]
  },
  {
   "cell_type": "code",
   "execution_count": 15,
   "metadata": {},
   "outputs": [],
   "source": [
    "bits_per_file = np.zeros((len(encoders_decoders), len(datasets)), dtype=int)\n",
    "bits_per_symbol = np.zeros((len(encoders_decoders), len(datasets)))\n",
    "\n",
    "for i, (encoder_name, encoder, decoder) in enumerate(encoders_decoders):\n",
    "    for j, (dataset_name, dataset) in enumerate(datasets):\n",
    "        encoded = encoder.encode(dataset)\n",
    "        \n",
    "        bitfile = BitFile()\n",
    "        bitfile.save('output/data.bin', encoded)\n",
    "        loaded = bitfile.load('output/data.bin')\n",
    "        \n",
    "        decoded = decoder.decode(loaded)\n",
    "        \n",
    "        test_array_equality(dataset, decoded)\n",
    "        \n",
    "        bits_per_file[i, j] = len(loaded)\n",
    "        bits_per_symbol[i, j] = len(loaded) / len(dataset)"
   ]
  },
  {
   "cell_type": "markdown",
   "metadata": {},
   "source": [
    "### Bits per file"
   ]
  },
  {
   "cell_type": "code",
   "execution_count": 16,
   "metadata": {},
   "outputs": [
    {
     "data": {
      "text/html": [
       "<style  type=\"text/css\" >\n",
       "</style><table id=\"T_2ff57168_55c4_11ea_9624_7c76353ed8dd\" ><thead>    <tr>        <th class=\"blank level0\" ></th>        <th class=\"col_heading level0 col0\" >uniform_8</th>        <th class=\"col_heading level0 col1\" >gausian_8</th>        <th class=\"col_heading level0 col2\" >exponential_8</th>        <th class=\"col_heading level0 col3\" >uniform_16</th>        <th class=\"col_heading level0 col4\" >gausian_16</th>        <th class=\"col_heading level0 col5\" >exponential_16</th>    </tr></thead><tbody>\n",
       "                <tr>\n",
       "                        <th id=\"T_2ff57168_55c4_11ea_9624_7c76353ed8ddlevel0_row0\" class=\"row_heading level0 row0\" >Elias (gamma)</th>\n",
       "                        <td id=\"T_2ff57168_55c4_11ea_9624_7c76353ed8ddrow0_col0\" class=\"data row0 col0\" >856,640</td>\n",
       "                        <td id=\"T_2ff57168_55c4_11ea_9624_7c76353ed8ddrow0_col1\" class=\"data row0 col1\" >917,064</td>\n",
       "                        <td id=\"T_2ff57168_55c4_11ea_9624_7c76353ed8ddrow0_col2\" class=\"data row0 col2\" >454,900</td>\n",
       "                        <td id=\"T_2ff57168_55c4_11ea_9624_7c76353ed8ddrow0_col3\" class=\"data row0 col3\" >3,800,032</td>\n",
       "                        <td id=\"T_2ff57168_55c4_11ea_9624_7c76353ed8ddrow0_col4\" class=\"data row0 col4\" >3,932,248</td>\n",
       "                        <td id=\"T_2ff57168_55c4_11ea_9624_7c76353ed8ddrow0_col5\" class=\"data row0 col5\" >1,138,872</td>\n",
       "            </tr>\n",
       "            <tr>\n",
       "                        <th id=\"T_2ff57168_55c4_11ea_9624_7c76353ed8ddlevel0_row1\" class=\"row_heading level0 row1\" >Fibonacci</th>\n",
       "                        <td id=\"T_2ff57168_55c4_11ea_9624_7c76353ed8ddrow1_col0\" class=\"data row1 col0\" >699,069</td>\n",
       "                        <td id=\"T_2ff57168_55c4_11ea_9624_7c76353ed8ddrow1_col1\" class=\"data row1 col1\" >730,716</td>\n",
       "                        <td id=\"T_2ff57168_55c4_11ea_9624_7c76353ed8ddrow1_col2\" class=\"data row1 col2\" >404,520</td>\n",
       "                        <td id=\"T_2ff57168_55c4_11ea_9624_7c76353ed8ddrow1_col3\" class=\"data row1 col3\" >2,902,780</td>\n",
       "                        <td id=\"T_2ff57168_55c4_11ea_9624_7c76353ed8ddrow1_col4\" class=\"data row1 col4\" >3,011,773</td>\n",
       "                        <td id=\"T_2ff57168_55c4_11ea_9624_7c76353ed8ddrow1_col5\" class=\"data row1 col5\" >973,968</td>\n",
       "            </tr>\n",
       "            <tr>\n",
       "                        <th id=\"T_2ff57168_55c4_11ea_9624_7c76353ed8ddlevel0_row2\" class=\"row_heading level0 row2\" >Raw binary</th>\n",
       "                        <td id=\"T_2ff57168_55c4_11ea_9624_7c76353ed8ddrow2_col0\" class=\"data row2 col0\" >1,114,112</td>\n",
       "                        <td id=\"T_2ff57168_55c4_11ea_9624_7c76353ed8ddrow2_col1\" class=\"data row2 col1\" >1,114,112</td>\n",
       "                        <td id=\"T_2ff57168_55c4_11ea_9624_7c76353ed8ddrow2_col2\" class=\"data row2 col2\" >1,114,112</td>\n",
       "                        <td id=\"T_2ff57168_55c4_11ea_9624_7c76353ed8ddrow2_col3\" class=\"data row2 col3\" >2,228,224</td>\n",
       "                        <td id=\"T_2ff57168_55c4_11ea_9624_7c76353ed8ddrow2_col4\" class=\"data row2 col4\" >2,228,224</td>\n",
       "                        <td id=\"T_2ff57168_55c4_11ea_9624_7c76353ed8ddrow2_col5\" class=\"data row2 col5\" >2,228,224</td>\n",
       "            </tr>\n",
       "    </tbody></table>"
      ],
      "text/plain": [
       "<pandas.io.formats.style.Styler at 0x21f8fc69ba8>"
      ]
     },
     "execution_count": 16,
     "metadata": {},
     "output_type": "execute_result"
    }
   ],
   "source": [
    "df = pd.DataFrame(bits_per_file, columns=[n for n, _ in datasets], index=[n for n, _, _ in encoders_decoders])\n",
    "df.style.format(\"{:,}\")"
   ]
  },
  {
   "cell_type": "markdown",
   "metadata": {},
   "source": [
    "### Bits per symbol"
   ]
  },
  {
   "cell_type": "code",
   "execution_count": 17,
   "metadata": {},
   "outputs": [
    {
     "data": {
      "text/html": [
       "<style  type=\"text/css\" >\n",
       "</style><table id=\"T_2ff71ef6_55c4_11ea_91e2_7c76353ed8dd\" ><thead>    <tr>        <th class=\"blank level0\" ></th>        <th class=\"col_heading level0 col0\" >uniform_8</th>        <th class=\"col_heading level0 col1\" >gausian_8</th>        <th class=\"col_heading level0 col2\" >exponential_8</th>        <th class=\"col_heading level0 col3\" >uniform_16</th>        <th class=\"col_heading level0 col4\" >gausian_16</th>        <th class=\"col_heading level0 col5\" >exponential_16</th>    </tr></thead><tbody>\n",
       "                <tr>\n",
       "                        <th id=\"T_2ff71ef6_55c4_11ea_91e2_7c76353ed8ddlevel0_row0\" class=\"row_heading level0 row0\" >Elias (gamma)</th>\n",
       "                        <td id=\"T_2ff71ef6_55c4_11ea_91e2_7c76353ed8ddrow0_col0\" class=\"data row0 col0\" >13.07</td>\n",
       "                        <td id=\"T_2ff71ef6_55c4_11ea_91e2_7c76353ed8ddrow0_col1\" class=\"data row0 col1\" >13.99</td>\n",
       "                        <td id=\"T_2ff71ef6_55c4_11ea_91e2_7c76353ed8ddrow0_col2\" class=\"data row0 col2\" >6.94</td>\n",
       "                        <td id=\"T_2ff71ef6_55c4_11ea_91e2_7c76353ed8ddrow0_col3\" class=\"data row0 col3\" >28.99</td>\n",
       "                        <td id=\"T_2ff71ef6_55c4_11ea_91e2_7c76353ed8ddrow0_col4\" class=\"data row0 col4\" >30.00</td>\n",
       "                        <td id=\"T_2ff71ef6_55c4_11ea_91e2_7c76353ed8ddrow0_col5\" class=\"data row0 col5\" >8.69</td>\n",
       "            </tr>\n",
       "            <tr>\n",
       "                        <th id=\"T_2ff71ef6_55c4_11ea_91e2_7c76353ed8ddlevel0_row1\" class=\"row_heading level0 row1\" >Fibonacci</th>\n",
       "                        <td id=\"T_2ff71ef6_55c4_11ea_91e2_7c76353ed8ddrow1_col0\" class=\"data row1 col0\" >10.67</td>\n",
       "                        <td id=\"T_2ff71ef6_55c4_11ea_91e2_7c76353ed8ddrow1_col1\" class=\"data row1 col1\" >11.15</td>\n",
       "                        <td id=\"T_2ff71ef6_55c4_11ea_91e2_7c76353ed8ddrow1_col2\" class=\"data row1 col2\" >6.17</td>\n",
       "                        <td id=\"T_2ff71ef6_55c4_11ea_91e2_7c76353ed8ddrow1_col3\" class=\"data row1 col3\" >22.15</td>\n",
       "                        <td id=\"T_2ff71ef6_55c4_11ea_91e2_7c76353ed8ddrow1_col4\" class=\"data row1 col4\" >22.98</td>\n",
       "                        <td id=\"T_2ff71ef6_55c4_11ea_91e2_7c76353ed8ddrow1_col5\" class=\"data row1 col5\" >7.43</td>\n",
       "            </tr>\n",
       "            <tr>\n",
       "                        <th id=\"T_2ff71ef6_55c4_11ea_91e2_7c76353ed8ddlevel0_row2\" class=\"row_heading level0 row2\" >Raw binary</th>\n",
       "                        <td id=\"T_2ff71ef6_55c4_11ea_91e2_7c76353ed8ddrow2_col0\" class=\"data row2 col0\" >17.00</td>\n",
       "                        <td id=\"T_2ff71ef6_55c4_11ea_91e2_7c76353ed8ddrow2_col1\" class=\"data row2 col1\" >17.00</td>\n",
       "                        <td id=\"T_2ff71ef6_55c4_11ea_91e2_7c76353ed8ddrow2_col2\" class=\"data row2 col2\" >17.00</td>\n",
       "                        <td id=\"T_2ff71ef6_55c4_11ea_91e2_7c76353ed8ddrow2_col3\" class=\"data row2 col3\" >17.00</td>\n",
       "                        <td id=\"T_2ff71ef6_55c4_11ea_91e2_7c76353ed8ddrow2_col4\" class=\"data row2 col4\" >17.00</td>\n",
       "                        <td id=\"T_2ff71ef6_55c4_11ea_91e2_7c76353ed8ddrow2_col5\" class=\"data row2 col5\" >17.00</td>\n",
       "            </tr>\n",
       "    </tbody></table>"
      ],
      "text/plain": [
       "<pandas.io.formats.style.Styler at 0x21f90978f98>"
      ]
     },
     "execution_count": 17,
     "metadata": {},
     "output_type": "execute_result"
    }
   ],
   "source": [
    "df = pd.DataFrame(bits_per_symbol, columns=[n for n, _ in datasets], index=[n for n, _, _ in encoders_decoders])\n",
    "df.style.format(\"{:.2f}\")"
   ]
  },
  {
   "cell_type": "code",
   "execution_count": null,
   "metadata": {},
   "outputs": [],
   "source": []
  }
 ],
 "metadata": {
  "kernelspec": {
   "display_name": "Python 3",
   "language": "python",
   "name": "python3"
  },
  "language_info": {
   "codemirror_mode": {
    "name": "ipython",
    "version": 3
   },
   "file_extension": ".py",
   "mimetype": "text/x-python",
   "name": "python",
   "nbconvert_exporter": "python",
   "pygments_lexer": "ipython3",
   "version": "3.6.7"
  }
 },
 "nbformat": 4,
 "nbformat_minor": 4
}
