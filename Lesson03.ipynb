{
 "cells": [
  {
   "cell_type": "code",
   "execution_count": 1,
   "metadata": {},
   "outputs": [],
   "source": [
    "from bitarray import bitarray"
   ]
  },
  {
   "cell_type": "markdown",
   "metadata": {},
   "source": [
    "# Utilities"
   ]
  },
  {
   "cell_type": "code",
   "execution_count": 2,
   "metadata": {},
   "outputs": [],
   "source": [
    "def read_file(name):\n",
    "    root_path = './data/lesson01/'\n",
    "    extension = '.txt'\n",
    "\n",
    "    file = open(root_path + name + extension, encoding='utf-8-sig')\n",
    "    text = file.read()\n",
    "    file.close()\n",
    "    \n",
    "    return text"
   ]
  },
  {
   "cell_type": "code",
   "execution_count": 3,
   "metadata": {},
   "outputs": [],
   "source": [
    "class BitFile(object):\n",
    "    def __init__(self, header_length=4):\n",
    "        '''\n",
    "        Arguments:\n",
    "        header_length -- length of header in bits\n",
    "        '''\n",
    "        self.header_length_bits = header_length * 8\n",
    "        \n",
    "    def encode_bit_length(self, bit_array):\n",
    "        content_bits = bit_array\n",
    "        content_length = len(content_bits)\n",
    "        \n",
    "        header_bits = bitarray(bin(content_length)[2:].zfill(self.header_length_bits))\n",
    "        \n",
    "        return header_bits + content_bits\n",
    "    \n",
    "    def decode_bit_length(self, bit_array):\n",
    "        header_bits = bit_array[:self.header_length_bits]\n",
    "        content_length = int(header_bits.to01(), 2)\n",
    "        content_bits = bit_array[self.header_length_bits:self.header_length_bits+content_length]\n",
    "        rest_bits = bit_array[self.header_length_bits+content_length:]\n",
    "\n",
    "        return content_bits, rest_bits\n",
    "\n",
    "    def save(self, path, bit_array):\n",
    "        bits = self.encode_bit_length(bit_array)\n",
    "        with open(path, 'bw') as file:\n",
    "            bits.tofile(file)\n",
    "            \n",
    "    def load(self, path):\n",
    "        with open(path, 'br') as file:\n",
    "            bits = bitarray()\n",
    "            bits.fromfile(file)\n",
    "            \n",
    "            return self.decode_bit_length(bits)[0]"
   ]
  },
  {
   "cell_type": "markdown",
   "metadata": {},
   "source": [
    "# Read data"
   ]
  },
  {
   "cell_type": "code",
   "execution_count": 4,
   "metadata": {},
   "outputs": [],
   "source": [
    "labels = ['czech', 'german', 'english', 'french', 'hungarian']\n",
    "datasets = [read_file(label) for label in labels]"
   ]
  },
  {
   "cell_type": "markdown",
   "metadata": {},
   "source": [
    "# Binary tree"
   ]
  },
  {
   "cell_type": "code",
   "execution_count": 5,
   "metadata": {},
   "outputs": [],
   "source": [
    "class Node(object):\n",
    "    def __init__(self, probability, char=None):\n",
    "        self.probability = probability\n",
    "        self.char = char\n",
    "        self.code = None\n",
    "        \n",
    "        self.parent = None\n",
    "        self.zero_child = None\n",
    "        self.one_child = None\n",
    "        \n",
    "    @classmethod\n",
    "    def deserialize(cls, succinct_code, leaf_node_chars):\n",
    "        root = cls(0)\n",
    "        leaf_nodes = []\n",
    "        root.deserialize_traverse(root, succinct_code.copy(), leaf_node_chars.copy(), leaf_nodes)\n",
    "        \n",
    "        return root, leaf_nodes\n",
    "            \n",
    "    def deserialize_traverse(self, current, serialized, leaf_node_chars, leaf_nodes):\n",
    "        left_bit = serialized.pop(0)\n",
    "        if left_bit:\n",
    "            child = Node(0)\n",
    "            current.set_zero_child(child)\n",
    "            self.deserialize_traverse(child, serialized, leaf_node_chars, leaf_nodes)\n",
    "\n",
    "        right_bit = serialized.pop(0)\n",
    "        if right_bit:\n",
    "            child = Node(0)\n",
    "            current.set_one_child(child)\n",
    "            self.deserialize_traverse(child, serialized, leaf_node_chars, leaf_nodes)\n",
    "\n",
    "        # handle leaf node\n",
    "        if not (left_bit or right_bit):\n",
    "            current.char = leaf_node_chars.pop(0)\n",
    "            leaf_nodes.append(current)\n",
    "    \n",
    "    def serialize(self):\n",
    "        '''\n",
    "        Serialize tree using succinct tree encoding\n",
    "        \n",
    "        Sources:\n",
    "         - https://en.wikipedia.org/wiki/Binary_tree#Succinct_encodings\n",
    "         - https://youtu.be/3Y2weLDiUWw?t=1331\n",
    "         \n",
    "        Returns succinct tree encoding and list of leaf node characters in left to right order\n",
    "        '''\n",
    "        succinct_code = bitarray()\n",
    "        leaf_node_chars = []\n",
    "        self.serialize_traverse(self, succinct_code, leaf_node_chars)\n",
    "        \n",
    "        return succinct_code, leaf_node_chars\n",
    "    \n",
    "    def serialize_traverse(self, current, serialized, leaf_node_chars):\n",
    "        if current.zero_child != None:\n",
    "            serialized += bitarray('1')\n",
    "            self.serialize_traverse(current.zero_child, serialized, leaf_node_chars)\n",
    "        else:\n",
    "            serialized += bitarray('0')\n",
    "            \n",
    "        if current.one_child != None:\n",
    "            serialized += bitarray('1')\n",
    "            self.serialize_traverse(current.one_child, serialized, leaf_node_chars)\n",
    "        else:\n",
    "            serialized += bitarray('0')\n",
    "            \n",
    "        # handle leaf node\n",
    "        if current.zero_child == None and current.one_child == None:\n",
    "            leaf_node_chars.append(current.char)            \n",
    "        \n",
    "    def set_zero_child(self, child):\n",
    "        self.zero_child = child\n",
    "        child.parent = self\n",
    "        child.code = bitarray('0')\n",
    "        \n",
    "    def set_one_child(self, child):\n",
    "        self.one_child = child\n",
    "        child.parent = self\n",
    "        child.code = bitarray('1')\n",
    "\n",
    "    def decode_traverse(self, bit_array):\n",
    "        if self.char != None:\n",
    "            return self.char\n",
    "        \n",
    "        bit = bit_array.pop(0)\n",
    "        if bit:\n",
    "            return self.one_child.decode_traverse(bit_array)\n",
    "        else:\n",
    "            return self.zero_child.decode_traverse(bit_array)\n",
    "\n",
    "    def __repr__(self):\n",
    "        prefix = ''\n",
    "        if self.char != None:\n",
    "            prefix = f\"'{self.char}' \"\n",
    "        return f'{prefix}{self.probability * 100:.2f}'"
   ]
  },
  {
   "cell_type": "markdown",
   "metadata": {},
   "source": [
    "### Tree serialization and deseralization test"
   ]
  },
  {
   "cell_type": "code",
   "execution_count": 6,
   "metadata": {},
   "outputs": [
    {
     "data": {
      "text/plain": [
       "(bitarray('1100100100'), ['c', 'd', 'e'])"
      ]
     },
     "execution_count": 6,
     "metadata": {},
     "output_type": "execute_result"
    }
   ],
   "source": [
    "a = Node(0)\n",
    "b = Node(0)\n",
    "c = Node(0)\n",
    "c.char = 'c'\n",
    "d = Node(0)\n",
    "d.char = 'd'\n",
    "e = Node(0)\n",
    "e.char = 'e'\n",
    "\n",
    "a.set_zero_child(b)\n",
    "a.set_one_child(e)\n",
    "b.set_zero_child(c)\n",
    "b.set_one_child(d)\n",
    "\n",
    "serialized, node_labels = a.serialize()\n",
    "Node.deserialize(serialized, node_labels)[0].serialize()"
   ]
  },
  {
   "cell_type": "markdown",
   "metadata": {},
   "source": [
    "# Huffman coding"
   ]
  },
  {
   "cell_type": "code",
   "execution_count": 7,
   "metadata": {},
   "outputs": [],
   "source": [
    "class HuffmanEncoder(object):\n",
    "    def encode(self, text, encode_raw=False):\n",
    "        self.compute_character_probabilities(text)\n",
    "        self.parent_nodes = [Node(prob, char) for char, prob in self.character_probabilities.items()]\n",
    "        self.build_tree()\n",
    "        self.create_char_code_mapping()\n",
    "        \n",
    "        bit_array = bitarray()\n",
    "        for char in text:\n",
    "            bit_array += (self.char_code_mapping[char])\n",
    "            \n",
    "        if encode_raw:\n",
    "            return bit_array\n",
    "        \n",
    "        bitfile = BitFile()\n",
    "\n",
    "        print('symbols', len(self.char_code_mapping))\n",
    "        \n",
    "        bit_tree, labels = self.root.serialize()\n",
    "        print('bit_tree size', len(bit_tree))\n",
    "        bit_tree = bitfile.encode_bit_length(bit_tree)\n",
    "\n",
    "        bit_labels = bitarray()\n",
    "        bit_labels.frombytes(bytes(''.join(labels), encoding='utf8'))\n",
    "        print('bit_labels size', len(bit_labels))\n",
    "        bit_labels = bitfile.encode_bit_length(bit_labels)\n",
    "        \n",
    "        print('content size', len(bit_array))\n",
    "        print(f'content bps {len(bit_array) / len(text):.2f}')\n",
    "\n",
    "        return bit_tree + bit_labels + bit_array\n",
    "        \n",
    "    def build_tree(self):    \n",
    "        nodes = self.parent_nodes.copy()\n",
    "        while len(nodes) > 1:\n",
    "            a, b = sorted(nodes, key=lambda e: e.probability)[:2]\n",
    "\n",
    "            # merge nodes\n",
    "            parent = Node(a.probability + b.probability)\n",
    "            parent.set_zero_child(a)\n",
    "            parent.set_one_child(b)\n",
    "\n",
    "            nodes.remove(a)\n",
    "            nodes.remove(b)\n",
    "            nodes.append(parent)\n",
    "            \n",
    "        self.root = nodes[0]\n",
    "            \n",
    "    def create_char_code_mapping(self):\n",
    "        mapping = {}\n",
    "        for char in self.character_probabilities:\n",
    "            node = [e for e in self.parent_nodes if e.char == char][0]\n",
    "            char_code = bitarray()\n",
    "            while node.code != None:\n",
    "                char_code += node.code\n",
    "                node = node.parent\n",
    "\n",
    "            mapping[char] = char_code[::-1] # reverse, because mapping was created from leaf node\n",
    "\n",
    "        self.char_code_mapping = mapping\n",
    "        \n",
    "    def compute_character_probabilities(self, text):\n",
    "        probs = dict([(char, 0) for char in set(text)])\n",
    "\n",
    "        for char in text:\n",
    "            probs[char] += 1\n",
    "\n",
    "        N = len(text)\n",
    "        for char in probs:\n",
    "            probs[char] /= N\n",
    "\n",
    "        self.character_probabilities = probs"
   ]
  },
  {
   "cell_type": "code",
   "execution_count": 8,
   "metadata": {},
   "outputs": [],
   "source": [
    "class HuffmanDecoder(object):\n",
    "    def decode(self, bit_array):\n",
    "        bit_array = bit_array.copy()\n",
    "        \n",
    "        bitfile = BitFile()\n",
    "        tree_bits, rest = bitfile.decode_bit_length(bit_array)\n",
    "        labels_bits, content = bitfile.decode_bit_length(rest)\n",
    "        labels = labels_bits.tobytes().decode(encoding='utf8')\n",
    "        leaf_node_chars = [char for char in labels]\n",
    "        \n",
    "        root, leaf_nodes = Node.deserialize(tree_bits, leaf_node_chars)\n",
    "        \n",
    "        # optimalization: use raw boolean array, instead of bitarray()\n",
    "        # content = [c for c in content]\n",
    "        # slightly better performance, but problem is probably in tree traversing\n",
    "        # for short text fast enough, but computation time is not increasing linearly\n",
    "        \n",
    "        decoded = ''\n",
    "        while len(content) > 0:\n",
    "            decoded += root.decode_traverse(content)\n",
    "            \n",
    "        return decoded"
   ]
  },
  {
   "cell_type": "code",
   "execution_count": 9,
   "metadata": {},
   "outputs": [],
   "source": [
    "class HuffmanLookupTableDecoder(object):\n",
    "    def decode(self, bit_array):\n",
    "        bit_array = bit_array.copy()\n",
    "        \n",
    "        bitfile = BitFile()\n",
    "        tree_bits, rest = bitfile.decode_bit_length(bit_array)\n",
    "        labels_bits, content = bitfile.decode_bit_length(rest)\n",
    "        labels = labels_bits.tobytes().decode(encoding='utf8')\n",
    "        leaf_node_chars = [char for char in labels]\n",
    "        \n",
    "        root, leaf_nodes = Node.deserialize(tree_bits, leaf_node_chars)\n",
    "        self.create_char_code_mapping(leaf_nodes)\n",
    "        \n",
    "        decoded = ''\n",
    "        content = content.to01()\n",
    "        \n",
    "        # optimize number of mapping lookups\n",
    "        min_code_length = min([len(key) for key in self.char_code_mapping.keys()])\n",
    "        \n",
    "        start = 0\n",
    "        i = 1\n",
    "        while i <= len(content):\n",
    "            x = content[start:i]\n",
    "            if x in self.char_code_mapping:\n",
    "                decoded += self.char_code_mapping[x]\n",
    "                start = i\n",
    "                i += min_code_length\n",
    "            else:\n",
    "                i += 1\n",
    "            \n",
    "        return decoded\n",
    "    \n",
    "    def create_char_code_mapping(self, leaf_nodes):\n",
    "        mapping = {}\n",
    "        for node in leaf_nodes:\n",
    "            char = node.char\n",
    "            char_code = bitarray()\n",
    "            while node.code != None:\n",
    "                char_code += node.code\n",
    "                node = node.parent\n",
    "\n",
    "            mapping[char_code[::-1].to01()] = char # reverse, because mapping was created from leaf node\n",
    "\n",
    "        self.char_code_mapping = mapping"
   ]
  },
  {
   "cell_type": "markdown",
   "metadata": {},
   "source": [
    "# Results"
   ]
  },
  {
   "cell_type": "code",
   "execution_count": 10,
   "metadata": {},
   "outputs": [
    {
     "name": "stdout",
     "output_type": "stream",
     "text": [
      "Dataset: czech\n",
      "symbols 110\n",
      "bit_tree size 438\n",
      "bit_labels size 1088\n",
      "content size 695565\n",
      "content bps 5.10\n",
      "\n",
      "Dataset: german\n",
      "symbols 93\n",
      "bit_tree size 370\n",
      "bit_labels size 840\n",
      "content size 1040648\n",
      "content bps 4.76\n",
      "\n",
      "Dataset: english\n",
      "symbols 87\n",
      "bit_tree size 346\n",
      "bit_labels size 696\n",
      "content size 684343\n",
      "content bps 4.67\n",
      "\n",
      "Dataset: french\n",
      "symbols 98\n",
      "bit_tree size 390\n",
      "bit_labels size 896\n",
      "content size 709381\n",
      "content bps 4.95\n",
      "\n",
      "Dataset: hungarian\n",
      "symbols 107\n",
      "bit_tree size 426\n",
      "bit_labels size 1088\n",
      "content size 942106\n",
      "content bps 4.85\n",
      "\n"
     ]
    }
   ],
   "source": [
    "for text, label in zip(datasets, labels):\n",
    "    print('Dataset:', label)\n",
    "    encoder = HuffmanEncoder()\n",
    "    data = encoder.encode(text)\n",
    "    print('')"
   ]
  },
  {
   "cell_type": "code",
   "execution_count": 11,
   "metadata": {},
   "outputs": [
    {
     "name": "stdout",
     "output_type": "stream",
     "text": [
      "symbols 95\n",
      "bit_tree size 378\n",
      "bit_labels size 928\n",
      "content size 50652\n",
      "content bps 5.07\n",
      "Wall time: 8.15 s\n"
     ]
    }
   ],
   "source": [
    "encoder = HuffmanEncoder()\n",
    "data = encoder.encode(datasets[0][:10000])\n",
    "\n",
    "decoder = HuffmanDecoder()\n",
    "decoded = %time decoder.decode(data)"
   ]
  },
  {
   "cell_type": "code",
   "execution_count": 12,
   "metadata": {},
   "outputs": [
    {
     "name": "stdout",
     "output_type": "stream",
     "text": [
      "symbols 110\n",
      "bit_tree size 438\n",
      "bit_labels size 1088\n",
      "content size 695565\n",
      "content bps 5.10\n",
      "Wall time: 77 ms\n",
      "Wall time: 190 ms\n"
     ]
    }
   ],
   "source": [
    "encoder = HuffmanEncoder()\n",
    "data = %time encoder.encode(datasets[0])\n",
    "\n",
    "decoder = HuffmanLookupTableDecoder()\n",
    "decoded = %time decoder.decode(data)"
   ]
  },
  {
   "cell_type": "markdown",
   "metadata": {},
   "source": [
    "# Otázky\n",
    "1. Which of these codes cannot be Huffman codes for any probability assignment and why?\n",
    "- {0, 10, 11}\n",
    "    - může\n",
    "- {00, 01, 10, 110}\n",
    "    - ne, výsledný strom by měl nelistový uzel 11, který by měl **pouze** jednoho potomka 110\n",
    "- {01, 10}\n",
    "    - ne, podobně jako předchozí příklad\n",
    "\n",
    "2. Classes of codes. Consider the code {0, 01}.\n",
    "- Is it prefix code?\n",
    "    - ne, protože 0 je prefixem 01\n",
    "- Is it uniquely decodable?\n",
    "    - ano\n",
    "- It it nonsingular?\n",
    "    - ano, je nonsingular, protože se žádný kód neopakuje\n",
    "\n",
    "3. Optimal word lengths.\n",
    "- Can l=(1, 2, 2) be the word lengths of a binary Huffman code?\n",
    "    - ano\n",
    "- Can l=(2, 2, 3, 3) be the word lengths of a binary Huffman code?\n",
    "    - ne"
   ]
  },
  {
   "cell_type": "code",
   "execution_count": null,
   "metadata": {},
   "outputs": [],
   "source": []
  }
 ],
 "metadata": {
  "kernelspec": {
   "display_name": "Python 3",
   "language": "python",
   "name": "python3"
  },
  "language_info": {
   "codemirror_mode": {
    "name": "ipython",
    "version": 3
   },
   "file_extension": ".py",
   "mimetype": "text/x-python",
   "name": "python",
   "nbconvert_exporter": "python",
   "pygments_lexer": "ipython3",
   "version": "3.6.7"
  }
 },
 "nbformat": 4,
 "nbformat_minor": 4
}
