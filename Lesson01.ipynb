{
 "cells": [
  {
   "cell_type": "code",
   "execution_count": 1,
   "metadata": {},
   "outputs": [],
   "source": [
    "from math import log2\n",
    "import numpy as np\n",
    "import pandas as pd"
   ]
  },
  {
   "cell_type": "code",
   "execution_count": 2,
   "metadata": {},
   "outputs": [],
   "source": [
    "root_path = './data/lesson01/'\n",
    "extension = '.txt'\n",
    "\n",
    "def read_file(name):\n",
    "    file = open(root_path + name + extension, encoding='utf8')\n",
    "    text = file.read()\n",
    "    file.close()\n",
    "    \n",
    "    return text.lower()\n",
    "    \n",
    "cz = read_file('czech')\n",
    "en = read_file('english')"
   ]
  },
  {
   "cell_type": "code",
   "execution_count": 3,
   "metadata": {},
   "outputs": [],
   "source": [
    "def get_character_probabilities(text):\n",
    "    probs = dict([(char, 0) for char in set(text)])\n",
    "    \n",
    "    for char in text:\n",
    "        probs[char] += 1\n",
    "        \n",
    "    N = len(text)\n",
    "    for char in probs:\n",
    "        probs[char] /= N\n",
    "    \n",
    "    return probs\n",
    "\n",
    "probs_cz = get_character_probabilities(cz)\n",
    "probs_en = get_character_probabilities(en)"
   ]
  },
  {
   "cell_type": "code",
   "execution_count": 4,
   "metadata": {},
   "outputs": [
    {
     "data": {
      "text/plain": [
       "4.837293313173991"
      ]
     },
     "execution_count": 4,
     "metadata": {},
     "output_type": "execute_result"
    }
   ],
   "source": [
    "def get_entropy(probabilities):\n",
    "    return sum([-(p * log2(p)) for p in probabilities.values()])\n",
    "\n",
    "get_entropy(probs_cz)"
   ]
  },
  {
   "cell_type": "code",
   "execution_count": 5,
   "metadata": {},
   "outputs": [
    {
     "data": {
      "text/plain": [
       "0.39720266896567047"
      ]
     },
     "execution_count": 5,
     "metadata": {},
     "output_type": "execute_result"
    }
   ],
   "source": [
    "def get_similarity(probs1, probs2):\n",
    "    all_chars = set(probs1).union(set(probs2))\n",
    "    \n",
    "    s = 0\n",
    "    for char in all_chars:\n",
    "        p1 = 0\n",
    "        if char in probs1:\n",
    "            p1 = probs1[char]\n",
    "            \n",
    "        p2 = 0 # q\n",
    "        if char in probs2:\n",
    "            p2 = probs2[char]\n",
    "            \n",
    "        s += abs(p1-p2)\n",
    "\n",
    "    return s\n",
    "\n",
    "get_similarity(probs_cz, probs_en)"
   ]
  },
  {
   "cell_type": "code",
   "execution_count": 6,
   "metadata": {},
   "outputs": [
    {
     "name": "stdout",
     "output_type": "stream",
     "text": [
      "czech entropy: 4.837293313173991\n",
      "german entropy: 4.463335366955405\n",
      "english entropy: 4.237850921075281\n",
      "french entropy: 4.509041198519109\n",
      "hungarian entropy: 4.6839356222824104\n"
     ]
    }
   ],
   "source": [
    "def do_all(name):\n",
    "    text = read_file(name)\n",
    "    probs = get_character_probabilities(text)\n",
    "    entropy = get_entropy(probs)\n",
    "    \n",
    "    print(name, 'entropy:', entropy)\n",
    "\n",
    "do_all('czech')\n",
    "do_all('german')\n",
    "do_all('english')\n",
    "do_all('french')\n",
    "do_all('hungarian')"
   ]
  },
  {
   "cell_type": "markdown",
   "metadata": {},
   "source": [
    "### similarity"
   ]
  },
  {
   "cell_type": "code",
   "execution_count": 7,
   "metadata": {},
   "outputs": [],
   "source": [
    "files = ['czech', 'german', 'english','french','hungarian']\n",
    "probs = [get_character_probabilities(read_file(f)) for f in files]\n",
    "\n",
    "sim = np.zeros((len(files), len(files)))\n",
    "\n",
    "for i, p1 in enumerate(probs):\n",
    "    for j, p2 in enumerate(probs):\n",
    "        sim[i,j] = get_similarity(p1,p2)"
   ]
  },
  {
   "cell_type": "code",
   "execution_count": 8,
   "metadata": {},
   "outputs": [
    {
     "data": {
      "text/html": [
       "<div>\n",
       "<style scoped>\n",
       "    .dataframe tbody tr th:only-of-type {\n",
       "        vertical-align: middle;\n",
       "    }\n",
       "\n",
       "    .dataframe tbody tr th {\n",
       "        vertical-align: top;\n",
       "    }\n",
       "\n",
       "    .dataframe thead th {\n",
       "        text-align: right;\n",
       "    }\n",
       "</style>\n",
       "<table border=\"1\" class=\"dataframe\">\n",
       "  <thead>\n",
       "    <tr style=\"text-align: right;\">\n",
       "      <th></th>\n",
       "      <th>czech</th>\n",
       "      <th>german</th>\n",
       "      <th>english</th>\n",
       "      <th>french</th>\n",
       "      <th>hungarian</th>\n",
       "    </tr>\n",
       "  </thead>\n",
       "  <tbody>\n",
       "    <tr>\n",
       "      <td>czech</td>\n",
       "      <td>0.000000</td>\n",
       "      <td>0.482689</td>\n",
       "      <td>0.397203</td>\n",
       "      <td>0.405121</td>\n",
       "      <td>0.413543</td>\n",
       "    </tr>\n",
       "    <tr>\n",
       "      <td>german</td>\n",
       "      <td>0.482689</td>\n",
       "      <td>0.000000</td>\n",
       "      <td>0.358214</td>\n",
       "      <td>0.322057</td>\n",
       "      <td>0.507416</td>\n",
       "    </tr>\n",
       "    <tr>\n",
       "      <td>english</td>\n",
       "      <td>0.397203</td>\n",
       "      <td>0.358214</td>\n",
       "      <td>0.000000</td>\n",
       "      <td>0.383859</td>\n",
       "      <td>0.454767</td>\n",
       "    </tr>\n",
       "    <tr>\n",
       "      <td>french</td>\n",
       "      <td>0.405121</td>\n",
       "      <td>0.322057</td>\n",
       "      <td>0.383859</td>\n",
       "      <td>0.000000</td>\n",
       "      <td>0.458979</td>\n",
       "    </tr>\n",
       "    <tr>\n",
       "      <td>hungarian</td>\n",
       "      <td>0.413543</td>\n",
       "      <td>0.507416</td>\n",
       "      <td>0.454767</td>\n",
       "      <td>0.458979</td>\n",
       "      <td>0.000000</td>\n",
       "    </tr>\n",
       "  </tbody>\n",
       "</table>\n",
       "</div>"
      ],
      "text/plain": [
       "              czech    german   english    french  hungarian\n",
       "czech      0.000000  0.482689  0.397203  0.405121   0.413543\n",
       "german     0.482689  0.000000  0.358214  0.322057   0.507416\n",
       "english    0.397203  0.358214  0.000000  0.383859   0.454767\n",
       "french     0.405121  0.322057  0.383859  0.000000   0.458979\n",
       "hungarian  0.413543  0.507416  0.454767  0.458979   0.000000"
      ]
     },
     "execution_count": 8,
     "metadata": {},
     "output_type": "execute_result"
    }
   ],
   "source": [
    "pd.DataFrame(sim, index=files, columns=files)"
   ]
  },
  {
   "cell_type": "code",
   "execution_count": null,
   "metadata": {},
   "outputs": [],
   "source": []
  }
 ],
 "metadata": {
  "kernelspec": {
   "display_name": "Python 3",
   "language": "python",
   "name": "python3"
  },
  "language_info": {
   "codemirror_mode": {
    "name": "ipython",
    "version": 3
   },
   "file_extension": ".py",
   "mimetype": "text/x-python",
   "name": "python",
   "nbconvert_exporter": "python",
   "pygments_lexer": "ipython3",
   "version": "3.6.7"
  }
 },
 "nbformat": 4,
 "nbformat_minor": 4
}
