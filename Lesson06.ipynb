{
 "cells": [
  {
   "cell_type": "code",
   "execution_count": 1,
   "metadata": {},
   "outputs": [],
   "source": [
    "from time import time\n",
    "from collections import defaultdict\n",
    "from functools import cmp_to_key\n",
    "from operator import itemgetter\n",
    "import array\n",
    "from sys import byteorder\n",
    "import struct\n",
    "\n",
    "import numpy as np\n",
    "import pandas as pd"
   ]
  },
  {
   "cell_type": "markdown",
   "metadata": {},
   "source": [
    "# Utils"
   ]
  },
  {
   "cell_type": "code",
   "execution_count": 2,
   "metadata": {},
   "outputs": [],
   "source": [
    "def read_file(name):\n",
    "    root_path = './data/lesson01/'\n",
    "    extension = '.txt'\n",
    "\n",
    "#     file = open(root_path + name + extension, encoding='utf-8-sig')\n",
    "    file = open(root_path + name + extension, 'rb')\n",
    "\n",
    "    text = file.read()\n",
    "    file.close()\n",
    "    \n",
    "    return text"
   ]
  },
  {
   "cell_type": "code",
   "execution_count": 3,
   "metadata": {},
   "outputs": [],
   "source": [
    "def get_entropy(iterable):\n",
    "    frequency = defaultdict(int)\n",
    "    for item in iterable:\n",
    "        frequency[item] += 1\n",
    "    \n",
    "    num_items = len(iterable)\n",
    "    probability = dict((item, freq/num_items) for item, freq in frequency.items())\n",
    "    \n",
    "    return -sum(prob*np.log2(prob) for prob in probability.values())"
   ]
  },
  {
   "cell_type": "markdown",
   "metadata": {},
   "source": [
    "# Read data"
   ]
  },
  {
   "cell_type": "code",
   "execution_count": 4,
   "metadata": {},
   "outputs": [],
   "source": [
    "labels = ['czech', 'german', 'english', 'french', 'hungarian']\n",
    "datasets = [read_file(label) for label in labels]"
   ]
  },
  {
   "cell_type": "markdown",
   "metadata": {},
   "source": [
    "# BWT"
   ]
  },
  {
   "cell_type": "code",
   "execution_count": 5,
   "metadata": {},
   "outputs": [],
   "source": [
    "class BwtEncoder(object):\n",
    "    def __init__(self, text):\n",
    "        self.text = text\n",
    "    \n",
    "        # compare rotated strings by chars\n",
    "        # when comparing whole rotated string, python runs out of memory\n",
    "        # (sorting czech dataset in C# took 21ms compared to python's 3.81s)\n",
    "        def compare(a, b):\n",
    "            for i in range(len(text)):\n",
    "                c1, c2 = text[(a+i)%len(text)], text[(b+i)%len(text)]\n",
    "                if c1 < c2:\n",
    "                    return -1\n",
    "                if c1 > c2:\n",
    "                    return 1\n",
    "\n",
    "            return 0\n",
    "        \n",
    "        self.T = sorted(range(len(text)), key=cmp_to_key(compare))\n",
    "    \n",
    "    @property\n",
    "    def F(self):\n",
    "        return [self.text[i] for i in self.T]\n",
    "    \n",
    "    @property\n",
    "    def L(self):\n",
    "        return [self.text[i-1%len(self.text)] for i in self.T]\n",
    "    \n",
    "    @property\n",
    "    def I(self):\n",
    "        return self.T.index(0)"
   ]
  },
  {
   "cell_type": "code",
   "execution_count": 6,
   "metadata": {},
   "outputs": [],
   "source": [
    "class BwtDecoder(object):\n",
    "    def __init__(self, L, I):\n",
    "        L_sorted = sorted(zip(L, range(len(L))), key=itemgetter(0))\n",
    "        reversed_T = [i for char, i in L_sorted]\n",
    "        \n",
    "        T = [0]*len(reversed_T)\n",
    "        for i in range(len(reversed_T)):\n",
    "            T[reversed_T[i]] = i\n",
    "            \n",
    "        self.I = I\n",
    "        self.T = T\n",
    "        self.reversed_T = reversed_T    \n",
    "        self.L = L\n",
    "        \n",
    "    @property\n",
    "    def F(self):\n",
    "        f = ['']*len(self.L)\n",
    "        for i in range(len(self.L)):\n",
    "            f[i] = self.L[self.reversed_T[i]]\n",
    "        return f\n",
    "    \n",
    "    def reconstruct(self):\n",
    "        n = len(self.T)\n",
    "        S = ['']*n\n",
    "        \n",
    "        t_prev = self.I\n",
    "        for i in range(n):\n",
    "            S[n-1-i] = self.L[t_prev]\n",
    "            t_prev = self.T[t_prev]\n",
    "        return S"
   ]
  },
  {
   "cell_type": "code",
   "execution_count": 7,
   "metadata": {},
   "outputs": [],
   "source": [
    "encoder = BwtEncoder('swiss miss')"
   ]
  },
  {
   "cell_type": "code",
   "execution_count": 8,
   "metadata": {},
   "outputs": [],
   "source": [
    "decoder = BwtDecoder(encoder.L, encoder.I)"
   ]
  },
  {
   "cell_type": "code",
   "execution_count": 9,
   "metadata": {},
   "outputs": [
    {
     "data": {
      "text/plain": [
       "'swiss miss'"
      ]
     },
     "execution_count": 9,
     "metadata": {},
     "output_type": "execute_result"
    }
   ],
   "source": [
    "''.join(decoder.reconstruct())"
   ]
  },
  {
   "cell_type": "code",
   "execution_count": 10,
   "metadata": {},
   "outputs": [
    {
     "name": "stdout",
     "output_type": "stream",
     "text": [
      "Wall time: 5.16 s\n"
     ]
    }
   ],
   "source": [
    "%time encoder = BwtEncoder(datasets[3])"
   ]
  },
  {
   "cell_type": "code",
   "execution_count": 11,
   "metadata": {},
   "outputs": [],
   "source": [
    "decoder = BwtDecoder(encoder.L, encoder.I)"
   ]
  },
  {
   "cell_type": "code",
   "execution_count": 12,
   "metadata": {},
   "outputs": [
    {
     "data": {
      "text/plain": [
       "False"
      ]
     },
     "execution_count": 12,
     "metadata": {},
     "output_type": "execute_result"
    }
   ],
   "source": [
    "array.array('B', decoder.reconstruct()).tostring() == datasets[0]"
   ]
  },
  {
   "cell_type": "markdown",
   "metadata": {},
   "source": [
    "# Move to front"
   ]
  },
  {
   "cell_type": "code",
   "execution_count": 13,
   "metadata": {},
   "outputs": [],
   "source": [
    "class MoveToFrontEncoder(object):\n",
    "    def __init__(self, alphabet=list(range(256))):\n",
    "        self.alphabet = alphabet\n",
    "        \n",
    "    def encode(self, values):\n",
    "        queue = self.alphabet.copy()\n",
    "        \n",
    "        for value in values:\n",
    "            i = queue.index(value)\n",
    "            \n",
    "            char = queue.pop(i)\n",
    "            queue.insert(0, char)\n",
    "            \n",
    "            yield i\n",
    "            \n",
    "# class MoveToFrontUtf8Encoder(object):\n",
    "#     def encode(self, values):\n",
    "#         queue = []\n",
    "        \n",
    "#         for value in values:\n",
    "#             try:\n",
    "#                 i = queue.index(value)\n",
    "#                 queue.pop(i)\n",
    "#             except ValueError:\n",
    "#                 i = int.from_bytes(value.encode(), byteorder=byteorder)\n",
    "            \n",
    "#             queue.insert(0, value)\n",
    "            \n",
    "#             yield i"
   ]
  },
  {
   "cell_type": "code",
   "execution_count": 14,
   "metadata": {},
   "outputs": [],
   "source": [
    "class MoveToFrontDecoder(object):\n",
    "    def __init__(self, alphabet=list(range(256))):\n",
    "        self.alphabet = alphabet\n",
    "        \n",
    "    def decode(self, values):\n",
    "        queue = self.alphabet.copy()\n",
    "        \n",
    "        for i in values:\n",
    "            char = queue[i]\n",
    "            if i > 0:\n",
    "                queue.pop(i)\n",
    "                queue.insert(0, char)\n",
    "\n",
    "            yield char\n",
    "            \n",
    "# class MoveToFrontUtf8Decoder(object):\n",
    "#     def decode(self, values):\n",
    "#         queue = []\n",
    "        \n",
    "#         for i in values:\n",
    "#             try:\n",
    "#                 char = queue[i]\n",
    "#                 if i > 0:\n",
    "#                     queue.pop(i)\n",
    "#             except IndexError:\n",
    "#                 if i < 256:\n",
    "#                     char = chr(i)\n",
    "#                 else:\n",
    "#                     char = struct.pack('H', i).decode('utf-8')\n",
    "#             if i > 0:\n",
    "#                 queue.insert(0, char)\n",
    "\n",
    "#             yield char"
   ]
  },
  {
   "cell_type": "code",
   "execution_count": 15,
   "metadata": {},
   "outputs": [],
   "source": [
    "enc = MoveToFrontEncoder(['a', 'b', 'c', 'd', 'm', 'n', 'o', 'p'])"
   ]
  },
  {
   "cell_type": "code",
   "execution_count": 16,
   "metadata": {},
   "outputs": [
    {
     "data": {
      "text/plain": [
       "[0, 1, 2, 3, 0, 1, 2, 3, 4, 5, 6, 7, 0, 1, 2, 3]"
      ]
     },
     "execution_count": 16,
     "metadata": {},
     "output_type": "execute_result"
    }
   ],
   "source": [
    "encoded = list(enc.encode('abcddcbamnopponm'))\n",
    "encoded"
   ]
  },
  {
   "cell_type": "code",
   "execution_count": 17,
   "metadata": {},
   "outputs": [],
   "source": [
    "dec = MoveToFrontDecoder(['a', 'b', 'c', 'd', 'm', 'n', 'o', 'p'])"
   ]
  },
  {
   "cell_type": "code",
   "execution_count": 18,
   "metadata": {},
   "outputs": [
    {
     "data": {
      "text/plain": [
       "'abcddcbamnopponm'"
      ]
     },
     "execution_count": 18,
     "metadata": {},
     "output_type": "execute_result"
    }
   ],
   "source": [
    "decoded = ''.join(dec.decode([0, 1, 2, 3, 0, 1, 2, 3, 4, 5, 6, 7, 0, 1, 2, 3]))\n",
    "decoded "
   ]
  },
  {
   "cell_type": "code",
   "execution_count": 19,
   "metadata": {},
   "outputs": [
    {
     "data": {
      "text/plain": [
       "True"
      ]
     },
     "execution_count": 19,
     "metadata": {},
     "output_type": "execute_result"
    }
   ],
   "source": [
    "decoded == 'abcddcbamnopponm'"
   ]
  },
  {
   "cell_type": "markdown",
   "metadata": {},
   "source": [
    "# Results"
   ]
  },
  {
   "cell_type": "code",
   "execution_count": 20,
   "metadata": {},
   "outputs": [],
   "source": [
    "df = pd.DataFrame(columns=['before', 'after', 'decompression_ok', 'time'], index=labels)\n",
    "\n",
    "for label, text in zip(labels, datasets):\n",
    "    t0 = time()\n",
    "    H_before = get_entropy(text)\n",
    "\n",
    "    bwt_encoder = BwtEncoder(text)\n",
    "    mtf_encoder = MoveToFrontEncoder()\n",
    "    encoded = list(mtf_encoder.encode(bwt_encoder.L))\n",
    "\n",
    "    H_after = get_entropy(encoded)\n",
    "\n",
    "    mtf_decoder = MoveToFrontDecoder()\n",
    "    decoded_L = list(mtf_decoder.decode(encoded))\n",
    "    bwt_decoder = BwtDecoder(decoded_L, bwt_encoder.I)\n",
    "    decoded_text = array.array('B', bwt_decoder.reconstruct()).tostring()\n",
    "    \n",
    "    is_ok = text == decoded_text\n",
    "    \n",
    "    df.loc[label] = [H_before, H_after, is_ok, time()-t0]"
   ]
  },
  {
   "cell_type": "code",
   "execution_count": 21,
   "metadata": {},
   "outputs": [
    {
     "data": {
      "text/html": [
       "<div>\n",
       "<style scoped>\n",
       "    .dataframe tbody tr th:only-of-type {\n",
       "        vertical-align: middle;\n",
       "    }\n",
       "\n",
       "    .dataframe tbody tr th {\n",
       "        vertical-align: top;\n",
       "    }\n",
       "\n",
       "    .dataframe thead th {\n",
       "        text-align: right;\n",
       "    }\n",
       "</style>\n",
       "<table border=\"1\" class=\"dataframe\">\n",
       "  <thead>\n",
       "    <tr style=\"text-align: right;\">\n",
       "      <th></th>\n",
       "      <th>before</th>\n",
       "      <th>after</th>\n",
       "      <th>decompression_ok</th>\n",
       "      <th>time</th>\n",
       "    </tr>\n",
       "  </thead>\n",
       "  <tbody>\n",
       "    <tr>\n",
       "      <td>czech</td>\n",
       "      <td>5.20571</td>\n",
       "      <td>2.86037</td>\n",
       "      <td>True</td>\n",
       "      <td>6.22195</td>\n",
       "    </tr>\n",
       "    <tr>\n",
       "      <td>german</td>\n",
       "      <td>4.85786</td>\n",
       "      <td>2.74431</td>\n",
       "      <td>True</td>\n",
       "      <td>8.76844</td>\n",
       "    </tr>\n",
       "    <tr>\n",
       "      <td>english</td>\n",
       "      <td>4.70253</td>\n",
       "      <td>2.72626</td>\n",
       "      <td>True</td>\n",
       "      <td>6.66557</td>\n",
       "    </tr>\n",
       "    <tr>\n",
       "      <td>french</td>\n",
       "      <td>4.99521</td>\n",
       "      <td>2.63374</td>\n",
       "      <td>True</td>\n",
       "      <td>5.89897</td>\n",
       "    </tr>\n",
       "    <tr>\n",
       "      <td>hungarian</td>\n",
       "      <td>4.96675</td>\n",
       "      <td>3.01661</td>\n",
       "      <td>True</td>\n",
       "      <td>6.84108</td>\n",
       "    </tr>\n",
       "  </tbody>\n",
       "</table>\n",
       "</div>"
      ],
      "text/plain": [
       "            before    after decompression_ok     time\n",
       "czech      5.20571  2.86037             True  6.22195\n",
       "german     4.85786  2.74431             True  8.76844\n",
       "english    4.70253  2.72626             True  6.66557\n",
       "french     4.99521  2.63374             True  5.89897\n",
       "hungarian  4.96675  3.01661             True  6.84108"
      ]
     },
     "execution_count": 21,
     "metadata": {},
     "output_type": "execute_result"
    }
   ],
   "source": [
    "df"
   ]
  },
  {
   "cell_type": "code",
   "execution_count": null,
   "metadata": {},
   "outputs": [],
   "source": []
  }
 ],
 "metadata": {
  "kernelspec": {
   "display_name": "Python 3",
   "language": "python",
   "name": "python3"
  },
  "language_info": {
   "codemirror_mode": {
    "name": "ipython",
    "version": 3
   },
   "file_extension": ".py",
   "mimetype": "text/x-python",
   "name": "python",
   "nbconvert_exporter": "python",
   "pygments_lexer": "ipython3",
   "version": "3.6.7"
  }
 },
 "nbformat": 4,
 "nbformat_minor": 4
}
